{
 "cells": [
  {
   "cell_type": "code",
   "execution_count": 3,
   "id": "9b504e9f-7f43-4ad4-9b2d-c0039f3660c7",
   "metadata": {},
   "outputs": [],
   "source": [
    "import os\n",
    "import pandas as pd\n",
    "from sklearn.preprocessing import StandardScaler, LabelEncoder\n",
    "import sqlite3\n",
    "df = pd.read_csv('D:\\\\data science projects\\\\synthetic_health_data.csv')\n"
   ]
  },
  {
   "cell_type": "code",
   "execution_count": 4,
   "id": "a318ac1a-b424-447d-9121-c49b0e982b7a",
   "metadata": {},
   "outputs": [],
   "source": [
    "label_encoder = LabelEncoder()\n",
    "df['health_status_encoded'] = label_encoder.fit_transform(df['Health_Status'])\n",
    "scaler = StandardScaler()\n",
    "df[['Age', 'Income', 'Health_Score']] = scaler.fit_transform(df[['Age', 'Income', 'Health_Score']])\n"
   ]
  },
  {
   "cell_type": "code",
   "execution_count": 5,
   "id": "2f6f0739-6ce9-4233-bab4-72dd62cf1dd2",
   "metadata": {},
   "outputs": [],
   "source": [
    "df.drop(columns=['Health_Status'], inplace = True)"
   ]
  },
  {
   "cell_type": "code",
   "execution_count": 6,
   "id": "84793165-545b-4e14-88c7-0647b581b6e2",
   "metadata": {},
   "outputs": [],
   "source": [
    "db_path = 'D:\\\\data science projects\\\\synthetic_health_new_data.db'\n"
   ]
  },
  {
   "cell_type": "code",
   "execution_count": 7,
   "id": "7ca5195a-4f44-4cca-989d-dd438d72b58d",
   "metadata": {},
   "outputs": [],
   "source": [
    "conn = sqlite3.connect('db_path')"
   ]
  },
  {
   "cell_type": "code",
   "execution_count": 8,
   "id": "8a6df41e-cc22-4acd-8fc0-02c7398d7704",
   "metadata": {},
   "outputs": [],
   "source": [
    "cursor = conn.cursor()"
   ]
  },
  {
   "cell_type": "code",
   "execution_count": 9,
   "id": "b4937e0f-aa0c-4123-9768-572778543dee",
   "metadata": {},
   "outputs": [
    {
     "data": {
      "text/plain": [
       "<sqlite3.Cursor at 0x212f5153ec0>"
      ]
     },
     "execution_count": 9,
     "metadata": {},
     "output_type": "execute_result"
    }
   ],
   "source": [
    "cursor.execute('''\n",
    "    CREATE TABLE IF NOT EXISTS health_data (\n",
    "        Age REAL,\n",
    "        Income REAL,\n",
    "        Education_Level INTEGER,\n",
    "        Health_Score REAL,\n",
    "        Health_Status_Encoded INTEGER\n",
    "    )\n",
    "''')"
   ]
  },
  {
   "cell_type": "code",
   "execution_count": 10,
   "id": "12131b35-3703-4411-91b1-43d16551d819",
   "metadata": {},
   "outputs": [
    {
     "data": {
      "text/plain": [
       "1000"
      ]
     },
     "execution_count": 10,
     "metadata": {},
     "output_type": "execute_result"
    }
   ],
   "source": [
    "df.to_sql('health_data', conn, if_exists = 'append', index=False)"
   ]
  },
  {
   "cell_type": "code",
   "execution_count": 11,
   "id": "8dabb611-db24-4230-b9f6-daad9e6e36e9",
   "metadata": {},
   "outputs": [
    {
     "name": "stdout",
     "output_type": "stream",
     "text": [
      "Data transformed and successfully saved into the SQLite database at D:\\data science projects\\synthetic_health_new_data.db\n"
     ]
    }
   ],
   "source": [
    "conn.commit()\n",
    "conn.close()\n",
    "print(f\"Data transformed and successfully saved into the SQLite database at {db_path}\")\n"
   ]
  },
  {
   "cell_type": "code",
   "execution_count": 30,
   "id": "4c9f6b1e-ad82-4d01-beee-0bdbcb36bcd8",
   "metadata": {},
   "outputs": [],
   "source": [
    "#To_verify it"
   ]
  },
  {
   "cell_type": "code",
   "execution_count": 12,
   "id": "4983fe07-2e8a-4a67-b482-79b8ecb3c972",
   "metadata": {},
   "outputs": [],
   "source": [
    "conn = sqlite3.connect(db_path)"
   ]
  },
  {
   "cell_type": "code",
   "execution_count": 13,
   "id": "225a2e3a-cb51-4de0-bca8-d69b4ccd8e09",
   "metadata": {},
   "outputs": [],
   "source": [
    "db_from_db = pd.read_sql_query(\"SELECT * FROM health_data LIMIT 5\", conn)"
   ]
  },
  {
   "cell_type": "code",
   "execution_count": 14,
   "id": "0c815a55-0abd-423a-ad6e-fbd41944a01e",
   "metadata": {},
   "outputs": [
    {
     "name": "stdout",
     "output_type": "stream",
     "text": [
      "        Age    Income  Education_Level  Health_Score  health_status_encoded\n",
      "0  0.918433 -0.738814                1      0.391512                      1\n",
      "1  0.221066  0.330634                3      0.944224                      1\n",
      "2 -0.755249 -0.764615                2      0.491553                      1\n",
      "3  1.197381  1.509988                3      0.098188                      1\n",
      "4 -1.243407 -1.661175                3     -1.592801                      0\n"
     ]
    }
   ],
   "source": [
    "print(db_from_db)\n",
    "conn.close()"
   ]
  },
  {
   "cell_type": "code",
   "execution_count": null,
   "id": "f4c1c9f7-5924-4eb0-afd0-03d96eaf6b76",
   "metadata": {},
   "outputs": [],
   "source": []
  }
 ],
 "metadata": {
  "kernelspec": {
   "display_name": "Python 3 (ipykernel)",
   "language": "python",
   "name": "python3"
  },
  "language_info": {
   "codemirror_mode": {
    "name": "ipython",
    "version": 3
   },
   "file_extension": ".py",
   "mimetype": "text/x-python",
   "name": "python",
   "nbconvert_exporter": "python",
   "pygments_lexer": "ipython3",
   "version": "3.12.5"
  }
 },
 "nbformat": 4,
 "nbformat_minor": 5
}
